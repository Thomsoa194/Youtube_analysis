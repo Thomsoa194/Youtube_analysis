{
 "cells": [
  {
   "cell_type": "markdown",
   "id": "4db3a177",
   "metadata": {},
   "source": [
    "# Introduction"
   ]
  },
  {
   "cell_type": "markdown",
   "id": "82db6d7c",
   "metadata": {},
   "source": [
    "This dataset was sourced from Kaggle and includes YouTube trending data for various countries. In this project, I'll be analyzing data from specifically Great Britain and determining the answer to the following questions From the data.\n",
    "\n",
    "1. What is the average length of a trending video?\n",
    "2. Can a video's number of views be predicted from the number of likes, dislikes and number of comments?\n",
    "3. Which tags appear most frequently?\n",
    "4. What are the most common topics featured in the videos' description?\n",
    "5. According to this dataset, which channel has the most trending videos?\n",
    "6. In which month of the year are videos most likely to trend?\n",
    "\n",
    "As usual, this data will need to be thoroughly cleaned and processed before any modelling or statistical analysis. \n",
    "I'll use NLP and multiple Linear Regression models to answer a few of the questions above. "
   ]
  },
  {
   "cell_type": "code",
   "execution_count": 76,
   "id": "25d4ef34",
   "metadata": {},
   "outputs": [],
   "source": [
    "import pandas as pd"
   ]
  },
  {
   "cell_type": "markdown",
   "id": "3648821d",
   "metadata": {},
   "source": [
    "# Import the data"
   ]
  },
  {
   "cell_type": "code",
   "execution_count": 84,
   "id": "9e7384f7",
   "metadata": {},
   "outputs": [],
   "source": [
    "gb = pd.read_csv('GBvideos.csv')"
   ]
  },
  {
   "cell_type": "code",
   "execution_count": 191,
   "id": "e43af6f7",
   "metadata": {},
   "outputs": [
    {
     "data": {
      "text/html": [
       "<div>\n",
       "<style scoped>\n",
       "    .dataframe tbody tr th:only-of-type {\n",
       "        vertical-align: middle;\n",
       "    }\n",
       "\n",
       "    .dataframe tbody tr th {\n",
       "        vertical-align: top;\n",
       "    }\n",
       "\n",
       "    .dataframe thead th {\n",
       "        text-align: right;\n",
       "    }\n",
       "</style>\n",
       "<table border=\"1\" class=\"dataframe\">\n",
       "  <thead>\n",
       "    <tr style=\"text-align: right;\">\n",
       "      <th></th>\n",
       "      <th>video_id</th>\n",
       "      <th>trending_date</th>\n",
       "      <th>title</th>\n",
       "      <th>channel_title</th>\n",
       "      <th>category_id</th>\n",
       "      <th>publish_time</th>\n",
       "      <th>tags</th>\n",
       "      <th>views</th>\n",
       "      <th>likes</th>\n",
       "      <th>dislikes</th>\n",
       "      <th>comment_count</th>\n",
       "      <th>comments_disabled</th>\n",
       "      <th>ratings_disabled</th>\n",
       "      <th>video_error_or_removed</th>\n",
       "      <th>description</th>\n",
       "    </tr>\n",
       "  </thead>\n",
       "  <tbody>\n",
       "    <tr>\n",
       "      <th>2</th>\n",
       "      <td>n1WpP7iowLc</td>\n",
       "      <td>2017-11-14</td>\n",
       "      <td>Eminem - Walk On Water (Audio) ft. Beyoncé</td>\n",
       "      <td>EminemVEVO</td>\n",
       "      <td>10</td>\n",
       "      <td>2017-11-10 17:00:03+00:00</td>\n",
       "      <td>Eminem|\"Walk\"|\"On\"|\"Water\"|\"Aftermath/Shady/In...</td>\n",
       "      <td>17158579</td>\n",
       "      <td>787420</td>\n",
       "      <td>43420</td>\n",
       "      <td>125882</td>\n",
       "      <td>False</td>\n",
       "      <td>False</td>\n",
       "      <td>False</td>\n",
       "      <td>Eminem's new track Walk on Water ft. Beyoncé i...</td>\n",
       "    </tr>\n",
       "    <tr>\n",
       "      <th>6</th>\n",
       "      <td>2Vv-BfVoq4g</td>\n",
       "      <td>2017-11-14</td>\n",
       "      <td>Ed Sheeran - Perfect (Official Music Video)</td>\n",
       "      <td>Ed Sheeran</td>\n",
       "      <td>10</td>\n",
       "      <td>2017-11-09 11:04:14+00:00</td>\n",
       "      <td>edsheeran|\"ed sheeran\"|\"acoustic\"|\"live\"|\"cove...</td>\n",
       "      <td>33523622</td>\n",
       "      <td>1634124</td>\n",
       "      <td>21082</td>\n",
       "      <td>85067</td>\n",
       "      <td>False</td>\n",
       "      <td>False</td>\n",
       "      <td>False</td>\n",
       "      <td>🎧: https://ad.gt/yt-perfect\\n💰: https://atlant...</td>\n",
       "    </tr>\n",
       "    <tr>\n",
       "      <th>9</th>\n",
       "      <td>9t9u_yPEidY</td>\n",
       "      <td>2017-11-14</td>\n",
       "      <td>Jennifer Lopez - Amor, Amor, Amor (Official Vi...</td>\n",
       "      <td>JenniferLopezVEVO</td>\n",
       "      <td>10</td>\n",
       "      <td>2017-11-10 15:00:00+00:00</td>\n",
       "      <td>Jennifer Lopez ft. Wisin|\"Jennifer Lopez ft. W...</td>\n",
       "      <td>9548677</td>\n",
       "      <td>190084</td>\n",
       "      <td>15015</td>\n",
       "      <td>11473</td>\n",
       "      <td>False</td>\n",
       "      <td>False</td>\n",
       "      <td>False</td>\n",
       "      <td>Jennifer Lopez ft. Wisin - Amor, Amor, Amor (O...</td>\n",
       "    </tr>\n",
       "    <tr>\n",
       "      <th>53</th>\n",
       "      <td>9wg3v-01yKQ</td>\n",
       "      <td>2017-11-14</td>\n",
       "      <td>Harry Styles - Kiwi</td>\n",
       "      <td>HarryStylesVEVO</td>\n",
       "      <td>10</td>\n",
       "      <td>2017-11-08 13:00:01+00:00</td>\n",
       "      <td>Columbia|\"Harry Styles\"|\"Kiwi\"|\"Pop\"</td>\n",
       "      <td>9632678</td>\n",
       "      <td>810895</td>\n",
       "      <td>16139</td>\n",
       "      <td>59482</td>\n",
       "      <td>False</td>\n",
       "      <td>False</td>\n",
       "      <td>False</td>\n",
       "      <td>Harry Styles' self-titled debut album is avail...</td>\n",
       "    </tr>\n",
       "    <tr>\n",
       "      <th>93</th>\n",
       "      <td>R59TevgzN3k</td>\n",
       "      <td>2017-11-14</td>\n",
       "      <td>Samsung Galaxy: Growing Up</td>\n",
       "      <td>Samsung Mobile USA</td>\n",
       "      <td>24</td>\n",
       "      <td>2017-11-05 19:00:44+00:00</td>\n",
       "      <td>Samsung|\"Samsung Mobile\"|\"Samsung Mobile USA\"|...</td>\n",
       "      <td>16846215</td>\n",
       "      <td>258900</td>\n",
       "      <td>33231</td>\n",
       "      <td>34911</td>\n",
       "      <td>False</td>\n",
       "      <td>False</td>\n",
       "      <td>False</td>\n",
       "      <td>Upgrade to Galaxy.\\nLearn more: smsng.us/Switch</td>\n",
       "    </tr>\n",
       "  </tbody>\n",
       "</table>\n",
       "</div>"
      ],
      "text/plain": [
       "       video_id trending_date  \\\n",
       "2   n1WpP7iowLc    2017-11-14   \n",
       "6   2Vv-BfVoq4g    2017-11-14   \n",
       "9   9t9u_yPEidY    2017-11-14   \n",
       "53  9wg3v-01yKQ    2017-11-14   \n",
       "93  R59TevgzN3k    2017-11-14   \n",
       "\n",
       "                                                title       channel_title  \\\n",
       "2          Eminem - Walk On Water (Audio) ft. Beyoncé          EminemVEVO   \n",
       "6         Ed Sheeran - Perfect (Official Music Video)          Ed Sheeran   \n",
       "9   Jennifer Lopez - Amor, Amor, Amor (Official Vi...   JenniferLopezVEVO   \n",
       "53                                Harry Styles - Kiwi     HarryStylesVEVO   \n",
       "93                         Samsung Galaxy: Growing Up  Samsung Mobile USA   \n",
       "\n",
       "    category_id              publish_time  \\\n",
       "2            10 2017-11-10 17:00:03+00:00   \n",
       "6            10 2017-11-09 11:04:14+00:00   \n",
       "9            10 2017-11-10 15:00:00+00:00   \n",
       "53           10 2017-11-08 13:00:01+00:00   \n",
       "93           24 2017-11-05 19:00:44+00:00   \n",
       "\n",
       "                                                 tags     views    likes  \\\n",
       "2   Eminem|\"Walk\"|\"On\"|\"Water\"|\"Aftermath/Shady/In...  17158579   787420   \n",
       "6   edsheeran|\"ed sheeran\"|\"acoustic\"|\"live\"|\"cove...  33523622  1634124   \n",
       "9   Jennifer Lopez ft. Wisin|\"Jennifer Lopez ft. W...   9548677   190084   \n",
       "53               Columbia|\"Harry Styles\"|\"Kiwi\"|\"Pop\"   9632678   810895   \n",
       "93  Samsung|\"Samsung Mobile\"|\"Samsung Mobile USA\"|...  16846215   258900   \n",
       "\n",
       "    dislikes  comment_count  comments_disabled  ratings_disabled  \\\n",
       "2      43420         125882              False             False   \n",
       "6      21082          85067              False             False   \n",
       "9      15015          11473              False             False   \n",
       "53     16139          59482              False             False   \n",
       "93     33231          34911              False             False   \n",
       "\n",
       "    video_error_or_removed                                        description  \n",
       "2                    False  Eminem's new track Walk on Water ft. Beyoncé i...  \n",
       "6                    False  🎧: https://ad.gt/yt-perfect\\n💰: https://atlant...  \n",
       "9                    False  Jennifer Lopez ft. Wisin - Amor, Amor, Amor (O...  \n",
       "53                   False  Harry Styles' self-titled debut album is avail...  \n",
       "93                   False    Upgrade to Galaxy.\\nLearn more: smsng.us/Switch  "
      ]
     },
     "execution_count": 191,
     "metadata": {},
     "output_type": "execute_result"
    }
   ],
   "source": [
    "gb.head()"
   ]
  },
  {
   "cell_type": "code",
   "execution_count": 86,
   "id": "918b7349",
   "metadata": {},
   "outputs": [
    {
     "data": {
      "text/plain": [
       "video_id                  object\n",
       "trending_date             object\n",
       "title                     object\n",
       "channel_title             object\n",
       "category_id                int64\n",
       "publish_time              object\n",
       "tags                      object\n",
       "views                      int64\n",
       "likes                      int64\n",
       "dislikes                   int64\n",
       "comment_count              int64\n",
       "thumbnail_link            object\n",
       "comments_disabled           bool\n",
       "ratings_disabled            bool\n",
       "video_error_or_removed      bool\n",
       "description               object\n",
       "dtype: object"
      ]
     },
     "execution_count": 86,
     "metadata": {},
     "output_type": "execute_result"
    }
   ],
   "source": [
    "gb.dtypes"
   ]
  },
  {
   "cell_type": "markdown",
   "id": "cbf3b691",
   "metadata": {},
   "source": [
    "# Clean the data "
   ]
  },
  {
   "cell_type": "code",
   "execution_count": 87,
   "id": "b874fb3f",
   "metadata": {},
   "outputs": [],
   "source": [
    "#Convert the publish time and trending date to datetime\n",
    "gb.publish_time = pd.to_datetime(gb.publish_time)\n",
    "gb.trending_date = pd.to_datetime(gb['trending_date'], format='%y.%d.%m')"
   ]
  },
  {
   "cell_type": "code",
   "execution_count": 192,
   "id": "9b7f07f8",
   "metadata": {
    "scrolled": true
   },
   "outputs": [
    {
     "data": {
      "text/plain": [
       "video_id                   0\n",
       "trending_date              0\n",
       "title                      0\n",
       "channel_title              0\n",
       "category_id                0\n",
       "publish_time               0\n",
       "tags                       0\n",
       "views                      0\n",
       "likes                      0\n",
       "dislikes                   0\n",
       "comment_count              0\n",
       "comments_disabled          0\n",
       "ratings_disabled           0\n",
       "video_error_or_removed     0\n",
       "description               46\n",
       "dtype: int64"
      ]
     },
     "execution_count": 192,
     "metadata": {},
     "output_type": "execute_result"
    }
   ],
   "source": [
    "gb.isna().sum()"
   ]
  },
  {
   "cell_type": "code",
   "execution_count": 103,
   "id": "b7765e82",
   "metadata": {},
   "outputs": [],
   "source": [
    "gb.drop('thumbnail_link', inplace=True, axis=1)"
   ]
  },
  {
   "cell_type": "markdown",
   "id": "f2e85815",
   "metadata": {},
   "source": [
    "# Exploratory Data Analysis "
   ]
  },
  {
   "cell_type": "code",
   "execution_count": 30,
   "id": "6183e79b",
   "metadata": {},
   "outputs": [],
   "source": [
    "# import libraries for visualisation \n",
    "from matplotlib import pyplot as plt \n",
    "import seaborn as sns\n",
    "import numpy as np "
   ]
  },
  {
   "cell_type": "code",
   "execution_count": 181,
   "id": "3d5e433c",
   "metadata": {},
   "outputs": [
    {
     "data": {
      "text/html": [
       "<div>\n",
       "<style scoped>\n",
       "    .dataframe tbody tr th:only-of-type {\n",
       "        vertical-align: middle;\n",
       "    }\n",
       "\n",
       "    .dataframe tbody tr th {\n",
       "        vertical-align: top;\n",
       "    }\n",
       "\n",
       "    .dataframe thead th {\n",
       "        text-align: right;\n",
       "    }\n",
       "</style>\n",
       "<table border=\"1\" class=\"dataframe\">\n",
       "  <thead>\n",
       "    <tr style=\"text-align: right;\">\n",
       "      <th></th>\n",
       "      <th>category_id</th>\n",
       "      <th>views</th>\n",
       "      <th>likes</th>\n",
       "      <th>dislikes</th>\n",
       "      <th>comment_count</th>\n",
       "    </tr>\n",
       "  </thead>\n",
       "  <tbody>\n",
       "    <tr>\n",
       "      <th>count</th>\n",
       "      <td>5796.00</td>\n",
       "      <td>5796.00</td>\n",
       "      <td>5796.00</td>\n",
       "      <td>5796.00</td>\n",
       "      <td>5796.00</td>\n",
       "    </tr>\n",
       "    <tr>\n",
       "      <th>mean</th>\n",
       "      <td>12.68</td>\n",
       "      <td>31489567.48</td>\n",
       "      <td>624495.21</td>\n",
       "      <td>39773.64</td>\n",
       "      <td>58838.59</td>\n",
       "    </tr>\n",
       "    <tr>\n",
       "      <th>std</th>\n",
       "      <td>6.31</td>\n",
       "      <td>40469500.60</td>\n",
       "      <td>708212.75</td>\n",
       "      <td>126176.91</td>\n",
       "      <td>118653.26</td>\n",
       "    </tr>\n",
       "    <tr>\n",
       "      <th>min</th>\n",
       "      <td>1.00</td>\n",
       "      <td>8001223.00</td>\n",
       "      <td>0.00</td>\n",
       "      <td>0.00</td>\n",
       "      <td>0.00</td>\n",
       "    </tr>\n",
       "    <tr>\n",
       "      <th>25%</th>\n",
       "      <td>10.00</td>\n",
       "      <td>11504104.00</td>\n",
       "      <td>241133.00</td>\n",
       "      <td>7879.00</td>\n",
       "      <td>14143.75</td>\n",
       "    </tr>\n",
       "    <tr>\n",
       "      <th>50%</th>\n",
       "      <td>10.00</td>\n",
       "      <td>17467218.00</td>\n",
       "      <td>391972.50</td>\n",
       "      <td>14577.00</td>\n",
       "      <td>28027.50</td>\n",
       "    </tr>\n",
       "    <tr>\n",
       "      <th>75%</th>\n",
       "      <td>10.00</td>\n",
       "      <td>34766642.00</td>\n",
       "      <td>734130.25</td>\n",
       "      <td>31913.25</td>\n",
       "      <td>54498.00</td>\n",
       "    </tr>\n",
       "    <tr>\n",
       "      <th>max</th>\n",
       "      <td>29.00</td>\n",
       "      <td>424538912.00</td>\n",
       "      <td>5613827.00</td>\n",
       "      <td>1944971.00</td>\n",
       "      <td>1626501.00</td>\n",
       "    </tr>\n",
       "  </tbody>\n",
       "</table>\n",
       "</div>"
      ],
      "text/plain": [
       "       category_id        views      likes   dislikes  comment_count\n",
       "count      5796.00      5796.00    5796.00    5796.00        5796.00\n",
       "mean         12.68  31489567.48  624495.21   39773.64       58838.59\n",
       "std           6.31  40469500.60  708212.75  126176.91      118653.26\n",
       "min           1.00   8001223.00       0.00       0.00           0.00\n",
       "25%          10.00  11504104.00  241133.00    7879.00       14143.75\n",
       "50%          10.00  17467218.00  391972.50   14577.00       28027.50\n",
       "75%          10.00  34766642.00  734130.25   31913.25       54498.00\n",
       "max          29.00 424538912.00 5613827.00 1944971.00     1626501.00"
      ]
     },
     "execution_count": 181,
     "metadata": {},
     "output_type": "execute_result"
    }
   ],
   "source": [
    "pd.options.display.float_format = \"{:.2f}\".format\n",
    "gb.describe()"
   ]
  },
  {
   "cell_type": "markdown",
   "id": "d674f7a1",
   "metadata": {},
   "source": [
    "A quick overview of the data tells us that the mean number of likes is 5,911,943.63 and that 75% of the videos have less than 3,683,628.50 views. Clearly, the data has a very high standard deviation and so will need to be filtered to make model more accurate. At the moment, the dataset has 38916 observations. I will address this later in my analysis"
   ]
  },
  {
   "cell_type": "code",
   "execution_count": 182,
   "id": "b4d089bb",
   "metadata": {},
   "outputs": [
    {
     "data": {
      "text/html": [
       "<div>\n",
       "<style scoped>\n",
       "    .dataframe tbody tr th:only-of-type {\n",
       "        vertical-align: middle;\n",
       "    }\n",
       "\n",
       "    .dataframe tbody tr th {\n",
       "        vertical-align: top;\n",
       "    }\n",
       "\n",
       "    .dataframe thead th {\n",
       "        text-align: right;\n",
       "    }\n",
       "</style>\n",
       "<table border=\"1\" class=\"dataframe\">\n",
       "  <thead>\n",
       "    <tr style=\"text-align: right;\">\n",
       "      <th></th>\n",
       "      <th>category_id</th>\n",
       "      <th>views</th>\n",
       "      <th>likes</th>\n",
       "      <th>dislikes</th>\n",
       "      <th>comment_count</th>\n",
       "      <th>comments_disabled</th>\n",
       "      <th>ratings_disabled</th>\n",
       "      <th>video_error_or_removed</th>\n",
       "    </tr>\n",
       "  </thead>\n",
       "  <tbody>\n",
       "    <tr>\n",
       "      <th>category_id</th>\n",
       "      <td>1.00</td>\n",
       "      <td>-0.11</td>\n",
       "      <td>-0.08</td>\n",
       "      <td>0.12</td>\n",
       "      <td>0.10</td>\n",
       "      <td>0.16</td>\n",
       "      <td>0.12</td>\n",
       "      <td>0.08</td>\n",
       "    </tr>\n",
       "    <tr>\n",
       "      <th>views</th>\n",
       "      <td>-0.11</td>\n",
       "      <td>1.00</td>\n",
       "      <td>0.71</td>\n",
       "      <td>0.31</td>\n",
       "      <td>0.33</td>\n",
       "      <td>0.03</td>\n",
       "      <td>0.05</td>\n",
       "      <td>0.01</td>\n",
       "    </tr>\n",
       "    <tr>\n",
       "      <th>likes</th>\n",
       "      <td>-0.08</td>\n",
       "      <td>0.71</td>\n",
       "      <td>1.00</td>\n",
       "      <td>0.38</td>\n",
       "      <td>0.70</td>\n",
       "      <td>-0.08</td>\n",
       "      <td>-0.07</td>\n",
       "      <td>0.01</td>\n",
       "    </tr>\n",
       "    <tr>\n",
       "      <th>dislikes</th>\n",
       "      <td>0.12</td>\n",
       "      <td>0.31</td>\n",
       "      <td>0.38</td>\n",
       "      <td>1.00</td>\n",
       "      <td>0.77</td>\n",
       "      <td>-0.03</td>\n",
       "      <td>-0.03</td>\n",
       "      <td>0.02</td>\n",
       "    </tr>\n",
       "    <tr>\n",
       "      <th>comment_count</th>\n",
       "      <td>0.10</td>\n",
       "      <td>0.33</td>\n",
       "      <td>0.70</td>\n",
       "      <td>0.77</td>\n",
       "      <td>1.00</td>\n",
       "      <td>-0.05</td>\n",
       "      <td>-0.04</td>\n",
       "      <td>0.01</td>\n",
       "    </tr>\n",
       "    <tr>\n",
       "      <th>comments_disabled</th>\n",
       "      <td>0.16</td>\n",
       "      <td>0.03</td>\n",
       "      <td>-0.08</td>\n",
       "      <td>-0.03</td>\n",
       "      <td>-0.05</td>\n",
       "      <td>1.00</td>\n",
       "      <td>0.81</td>\n",
       "      <td>-0.00</td>\n",
       "    </tr>\n",
       "    <tr>\n",
       "      <th>ratings_disabled</th>\n",
       "      <td>0.12</td>\n",
       "      <td>0.05</td>\n",
       "      <td>-0.07</td>\n",
       "      <td>-0.03</td>\n",
       "      <td>-0.04</td>\n",
       "      <td>0.81</td>\n",
       "      <td>1.00</td>\n",
       "      <td>-0.00</td>\n",
       "    </tr>\n",
       "    <tr>\n",
       "      <th>video_error_or_removed</th>\n",
       "      <td>0.08</td>\n",
       "      <td>0.01</td>\n",
       "      <td>0.01</td>\n",
       "      <td>0.02</td>\n",
       "      <td>0.01</td>\n",
       "      <td>-0.00</td>\n",
       "      <td>-0.00</td>\n",
       "      <td>1.00</td>\n",
       "    </tr>\n",
       "  </tbody>\n",
       "</table>\n",
       "</div>"
      ],
      "text/plain": [
       "                        category_id  views  likes  dislikes  comment_count  \\\n",
       "category_id                    1.00  -0.11  -0.08      0.12           0.10   \n",
       "views                         -0.11   1.00   0.71      0.31           0.33   \n",
       "likes                         -0.08   0.71   1.00      0.38           0.70   \n",
       "dislikes                       0.12   0.31   0.38      1.00           0.77   \n",
       "comment_count                  0.10   0.33   0.70      0.77           1.00   \n",
       "comments_disabled              0.16   0.03  -0.08     -0.03          -0.05   \n",
       "ratings_disabled               0.12   0.05  -0.07     -0.03          -0.04   \n",
       "video_error_or_removed         0.08   0.01   0.01      0.02           0.01   \n",
       "\n",
       "                        comments_disabled  ratings_disabled  \\\n",
       "category_id                          0.16              0.12   \n",
       "views                                0.03              0.05   \n",
       "likes                               -0.08             -0.07   \n",
       "dislikes                            -0.03             -0.03   \n",
       "comment_count                       -0.05             -0.04   \n",
       "comments_disabled                    1.00              0.81   \n",
       "ratings_disabled                     0.81              1.00   \n",
       "video_error_or_removed              -0.00             -0.00   \n",
       "\n",
       "                        video_error_or_removed  \n",
       "category_id                               0.08  \n",
       "views                                     0.01  \n",
       "likes                                     0.01  \n",
       "dislikes                                  0.02  \n",
       "comment_count                             0.01  \n",
       "comments_disabled                        -0.00  \n",
       "ratings_disabled                         -0.00  \n",
       "video_error_or_removed                    1.00  "
      ]
     },
     "execution_count": 182,
     "metadata": {},
     "output_type": "execute_result"
    }
   ],
   "source": [
    "gb.corr()"
   ]
  },
  {
   "cell_type": "markdown",
   "id": "e17f19cd",
   "metadata": {},
   "source": [
    "The variables with the highest correlations are dislikes and comment count, followed by likes and views and then likes and comment_count. It's worth mentioning that dislikes and likes have no significant correlation. This makes a lot of sense given YouTube videos are either largely popular or predominantly unpopular. I'll visualise this relationship "
   ]
  },
  {
   "cell_type": "code",
   "execution_count": 183,
   "id": "4faad617",
   "metadata": {},
   "outputs": [
    {
     "data": {
      "image/png": "[encoded data removed]",
      "text/plain": [
       "<Figure size 576x432 with 2 Axes>"
      ]
     },
     "metadata": {},
     "output_type": "display_data"
    }
   ],
   "source": [
    "fig, ax = plt.subplots(figsize=(8,6))\n",
    "heat_map_variables = gb[['views', 'likes', 'dislikes', 'comment_count']]\n",
    "sns.heatmap(heat_map_variables.corr(),annot=True,cmap='coolwarm_r', annot_kws={'size': 15});"
   ]
  },
  {
   "cell_type": "code",
   "execution_count": 201,
   "id": "840b5d66",
   "metadata": {},
   "outputs": [
    {
     "data": {
      "image/png": "[encoded data removed]",
      "text/plain": [
       "<Figure size 504x360 with 1 Axes>"
      ]
     },
     "metadata": {},
     "output_type": "display_data"
    }
   ],
   "source": [
    "fig, ax = plt.subplots(figsize=(7, 5))\n",
    "sns.set_style('darkgrid')\n",
    "plt.xlabel('Dislikes')\n",
    "plt.ylabel('Comment_count')\n",
    "plt.title('Dislikes related to comment count', size=15)\n",
    "sns.regplot(x = 'dislikes', y = 'comment_count', data=gb);"
   ]
  },
  {
   "cell_type": "code",
   "execution_count": 204,
   "id": "1be91972",
   "metadata": {},
   "outputs": [
    {
     "data": {
      "image/png": "[encoded data removed]",
      "text/plain": [
       "<Figure size 504x360 with 1 Axes>"
      ]
     },
     "metadata": {},
     "output_type": "display_data"
    }
   ],
   "source": [
    "fig, ax = plt.subplots(figsize=(7, 5))\n",
    "sns.set_style('darkgrid')\n",
    "plt.xlabel('Views')\n",
    "plt.ylabel('Likes')\n",
    "plt.title('Likes related to views', size=15)\n",
    "sns.scatterplot(x = 'views', y = 'likes', data=gb, alpha=.3);"
   ]
  },
  {
   "cell_type": "code",
   "execution_count": 202,
   "id": "c71cc0fc",
   "metadata": {},
   "outputs": [
    {
     "data": {
      "image/png": "[encoded data removed]",
      "text/plain": [
       "<Figure size 504x360 with 1 Axes>"
      ]
     },
     "metadata": {},
     "output_type": "display_data"
    }
   ],
   "source": [
    "fig, ax = plt.subplots(figsize=(7, 5))\n",
    "sns.set_style('darkgrid')\n",
    "plt.xlabel('Likes')\n",
    "plt.ylabel('Comment Count')\n",
    "plt.title('Likes related to Comment Count', size=15)\n",
    "sns.regplot(x = 'likes', y = 'comment_count', data=gb);"
   ]
  },
  {
   "cell_type": "markdown",
   "id": "3ef050de",
   "metadata": {},
   "source": [
    "As shown above, the relationship between likes and comment count is somewhat linear. However, there are some videos that have few views though receive disproportionately a lot of comments.  "
   ]
  },
  {
   "cell_type": "markdown",
   "id": "c10ee9f1",
   "metadata": {},
   "source": [
    "### What is the average length of a video?"
   ]
  },
  {
   "cell_type": "code",
   "execution_count": null,
   "id": "c989c28b",
   "metadata": {},
   "outputs": [],
   "source": []
  },
  {
   "cell_type": "markdown",
   "id": "d97e002a",
   "metadata": {},
   "source": [
    "### Which time of the day is most popular for publishing videos?"
   ]
  },
  {
   "cell_type": "code",
   "execution_count": 156,
   "id": "2e3797e1",
   "metadata": {},
   "outputs": [
    {
     "data": {
      "text/plain": [
       "2        17:00:03\n",
       "6        11:04:14\n",
       "9        15:00:00\n",
       "53       13:00:01\n",
       "93       19:00:44\n",
       "           ...   \n",
       "38904    16:19:16\n",
       "38905    17:00:00\n",
       "38911    07:00:01\n",
       "38913    11:05:08\n",
       "38914    20:32:32\n",
       "Name: publish_time, Length: 5796, dtype: object"
      ]
     },
     "execution_count": 156,
     "metadata": {},
     "output_type": "execute_result"
    }
   ],
   "source": [
    "gb.publish_time.dt.time"
   ]
  },
  {
   "cell_type": "markdown",
   "id": "9ecb4e41",
   "metadata": {},
   "source": [
    "### Which tags appear most frequently?"
   ]
  },
  {
   "cell_type": "code",
   "execution_count": null,
   "id": "f463f088",
   "metadata": {},
   "outputs": [],
   "source": []
  },
  {
   "cell_type": "markdown",
   "id": "7dfb274a",
   "metadata": {},
   "source": [
    "### What are the most common topics featured in the videos' description?"
   ]
  },
  {
   "cell_type": "code",
   "execution_count": null,
   "id": "4070e29c",
   "metadata": {},
   "outputs": [],
   "source": []
  },
  {
   "cell_type": "markdown",
   "id": "a36b6072",
   "metadata": {},
   "source": [
    "### According to this dataset, which channel has the most trending videos?\n",
    "\n"
   ]
  },
  {
   "cell_type": "code",
   "execution_count": null,
   "id": "36fdd022",
   "metadata": {},
   "outputs": [],
   "source": []
  },
  {
   "cell_type": "markdown",
   "id": "1d99d36b",
   "metadata": {},
   "source": [
    "### In which month of the year are videos most likely to trend?"
   ]
  },
  {
   "cell_type": "code",
   "execution_count": null,
   "id": "fc0ba13b",
   "metadata": {},
   "outputs": [],
   "source": []
  }
 ],
 "metadata": {
  "kernelspec": {
   "display_name": "Python 3",
   "language": "python",
   "name": "python3"
  },
  "language_info": {
   "codemirror_mode": {
    "name": "ipython",
    "version": 3
   },
   "file_extension": ".py",
   "mimetype": "text/x-python",
   "name": "python",
   "nbconvert_exporter": "python",
   "pygments_lexer": "ipython3",
   "version": "3.9.1"
  }
 },
 "nbformat": 4,
 "nbformat_minor": 5
}
